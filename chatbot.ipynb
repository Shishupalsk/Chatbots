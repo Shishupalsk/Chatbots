{
 "cells": [
  {
   "cell_type": "code",
   "execution_count": 1,
   "id": "2a99989b-162b-446d-8471-8ea19df1957e",
   "metadata": {},
   "outputs": [],
   "source": [
    "\n",
    "import joblib\n",
    "import pandas as pd\n",
    "import numpy as np\n",
    "from sklearn import preprocessing\n",
    "from sklearn.model_selection import train_test_split\n",
    "from sklearn.feature_extraction.text import TfidfVectorizer\n",
    "from sklearn.pipeline import Pipeline\n",
    "from sklearn.metrics import classification_report\n",
    "from sklearn.linear_model import LogisticRegression\n",
    "\n",
    "import nltk\n",
    "try:\n",
    "    nltk.data.find('tokenizers/punkt')\n",
    "except LookupError:\n",
    "    nltk.download('punkt')"
   ]
  },
  {
   "cell_type": "code",
   "execution_count": 2,
   "id": "98842b25-507c-408a-85d2-793bfb492705",
   "metadata": {},
   "outputs": [],
   "source": [
    "df = pd.read_csv(r\"C:\\Users\\hp\\Downloads\\data for projects\\Sample_Customer_Service_Training_Dataset_chatbot.csv\")"
   ]
  },
  {
   "cell_type": "code",
   "execution_count": 3,
   "id": "a9ed3664-38a3-4193-8b27-8c556ac8ffb1",
   "metadata": {},
   "outputs": [
    {
     "data": {
      "text/html": [
       "<div>\n",
       "<style scoped>\n",
       "    .dataframe tbody tr th:only-of-type {\n",
       "        vertical-align: middle;\n",
       "    }\n",
       "\n",
       "    .dataframe tbody tr th {\n",
       "        vertical-align: top;\n",
       "    }\n",
       "\n",
       "    .dataframe thead th {\n",
       "        text-align: right;\n",
       "    }\n",
       "</style>\n",
       "<table border=\"1\" class=\"dataframe\">\n",
       "  <thead>\n",
       "    <tr style=\"text-align: right;\">\n",
       "      <th></th>\n",
       "      <th>flags</th>\n",
       "      <th>utterance</th>\n",
       "      <th>category</th>\n",
       "      <th>intent</th>\n",
       "    </tr>\n",
       "  </thead>\n",
       "  <tbody>\n",
       "    <tr>\n",
       "      <th>0</th>\n",
       "      <td>BM</td>\n",
       "      <td>I have problems with canceling an order</td>\n",
       "      <td>ORDER</td>\n",
       "      <td>cancel_order</td>\n",
       "    </tr>\n",
       "    <tr>\n",
       "      <th>1</th>\n",
       "      <td>BIM</td>\n",
       "      <td>how can I find information about canceling ord...</td>\n",
       "      <td>ORDER</td>\n",
       "      <td>cancel_order</td>\n",
       "    </tr>\n",
       "    <tr>\n",
       "      <th>2</th>\n",
       "      <td>B</td>\n",
       "      <td>I need help with canceling the last order</td>\n",
       "      <td>ORDER</td>\n",
       "      <td>cancel_order</td>\n",
       "    </tr>\n",
       "    <tr>\n",
       "      <th>3</th>\n",
       "      <td>BIP</td>\n",
       "      <td>could you help me cancelling the last order I ...</td>\n",
       "      <td>ORDER</td>\n",
       "      <td>cancel_order</td>\n",
       "    </tr>\n",
       "    <tr>\n",
       "      <th>4</th>\n",
       "      <td>B</td>\n",
       "      <td>problem with cancelling an order I made</td>\n",
       "      <td>ORDER</td>\n",
       "      <td>cancel_order</td>\n",
       "    </tr>\n",
       "  </tbody>\n",
       "</table>\n",
       "</div>"
      ],
      "text/plain": [
       "  flags                                          utterance category  \\\n",
       "0    BM            I have problems with canceling an order    ORDER   \n",
       "1   BIM  how can I find information about canceling ord...    ORDER   \n",
       "2     B          I need help with canceling the last order    ORDER   \n",
       "3   BIP  could you help me cancelling the last order I ...    ORDER   \n",
       "4     B            problem with cancelling an order I made    ORDER   \n",
       "\n",
       "         intent  \n",
       "0  cancel_order  \n",
       "1  cancel_order  \n",
       "2  cancel_order  \n",
       "3  cancel_order  \n",
       "4  cancel_order  "
      ]
     },
     "execution_count": 3,
     "metadata": {},
     "output_type": "execute_result"
    }
   ],
   "source": [
    "df.head()"
   ]
  },
  {
   "cell_type": "code",
   "execution_count": 4,
   "id": "258bd689-4db7-4b73-b576-aaaef1287536",
   "metadata": {},
   "outputs": [
    {
     "data": {
      "text/plain": [
       "27"
      ]
     },
     "execution_count": 4,
     "metadata": {},
     "output_type": "execute_result"
    }
   ],
   "source": [
    "len(df.intent.value_counts())"
   ]
  },
  {
   "cell_type": "code",
   "execution_count": 5,
   "id": "00f418a6-754e-4755-a1e4-cc30cf58f7f1",
   "metadata": {},
   "outputs": [
    {
     "data": {
      "text/html": [
       "<div>\n",
       "<style scoped>\n",
       "    .dataframe tbody tr th:only-of-type {\n",
       "        vertical-align: middle;\n",
       "    }\n",
       "\n",
       "    .dataframe tbody tr th {\n",
       "        vertical-align: top;\n",
       "    }\n",
       "\n",
       "    .dataframe thead th {\n",
       "        text-align: right;\n",
       "    }\n",
       "</style>\n",
       "<table border=\"1\" class=\"dataframe\">\n",
       "  <thead>\n",
       "    <tr style=\"text-align: right;\">\n",
       "      <th></th>\n",
       "      <th>flags</th>\n",
       "      <th>utterance</th>\n",
       "      <th>category</th>\n",
       "      <th>intent</th>\n",
       "      <th>label_num</th>\n",
       "    </tr>\n",
       "  </thead>\n",
       "  <tbody>\n",
       "    <tr>\n",
       "      <th>0</th>\n",
       "      <td>BM</td>\n",
       "      <td>I have problems with canceling an order</td>\n",
       "      <td>ORDER</td>\n",
       "      <td>cancel_order</td>\n",
       "      <td>0</td>\n",
       "    </tr>\n",
       "    <tr>\n",
       "      <th>1</th>\n",
       "      <td>BIM</td>\n",
       "      <td>how can I find information about canceling ord...</td>\n",
       "      <td>ORDER</td>\n",
       "      <td>cancel_order</td>\n",
       "      <td>0</td>\n",
       "    </tr>\n",
       "    <tr>\n",
       "      <th>2</th>\n",
       "      <td>B</td>\n",
       "      <td>I need help with canceling the last order</td>\n",
       "      <td>ORDER</td>\n",
       "      <td>cancel_order</td>\n",
       "      <td>0</td>\n",
       "    </tr>\n",
       "    <tr>\n",
       "      <th>3</th>\n",
       "      <td>BIP</td>\n",
       "      <td>could you help me cancelling the last order I ...</td>\n",
       "      <td>ORDER</td>\n",
       "      <td>cancel_order</td>\n",
       "      <td>0</td>\n",
       "    </tr>\n",
       "    <tr>\n",
       "      <th>4</th>\n",
       "      <td>B</td>\n",
       "      <td>problem with cancelling an order I made</td>\n",
       "      <td>ORDER</td>\n",
       "      <td>cancel_order</td>\n",
       "      <td>0</td>\n",
       "    </tr>\n",
       "  </tbody>\n",
       "</table>\n",
       "</div>"
      ],
      "text/plain": [
       "  flags                                          utterance category  \\\n",
       "0    BM            I have problems with canceling an order    ORDER   \n",
       "1   BIM  how can I find information about canceling ord...    ORDER   \n",
       "2     B          I need help with canceling the last order    ORDER   \n",
       "3   BIP  could you help me cancelling the last order I ...    ORDER   \n",
       "4     B            problem with cancelling an order I made    ORDER   \n",
       "\n",
       "         intent  label_num  \n",
       "0  cancel_order          0  \n",
       "1  cancel_order          0  \n",
       "2  cancel_order          0  \n",
       "3  cancel_order          0  \n",
       "4  cancel_order          0  "
      ]
     },
     "execution_count": 5,
     "metadata": {},
     "output_type": "execute_result"
    }
   ],
   "source": [
    "label_intent = preprocessing.LabelEncoder()\n",
    "df['label_num'] = label_intent.fit_transform(df.intent)\n",
    "df.head()"
   ]
  },
  {
   "cell_type": "code",
   "execution_count": 6,
   "id": "6dcb96d9-336a-4cfc-acc2-0c311ae4ce5e",
   "metadata": {},
   "outputs": [
    {
     "data": {
      "text/plain": [
       "{'classes_': array(['cancel_order', 'change_order', 'change_shipping_address',\n",
       "        'check_cancellation_fee', 'check_invoice', 'check_payment_methods',\n",
       "        'check_refund_policy', 'complaint', 'contact_customer_service',\n",
       "        'contact_human_agent', 'create_account', 'delete_account',\n",
       "        'delivery_options', 'delivery_period', 'edit_account',\n",
       "        'get_invoice', 'get_refund', 'newsletter_subscription',\n",
       "        'payment_issue', 'place_order', 'recover_password',\n",
       "        'registration_problems', 'review', 'set_up_shipping_address',\n",
       "        'switch_account', 'track_order', 'track_refund'], dtype=object)}"
      ]
     },
     "execution_count": 6,
     "metadata": {},
     "output_type": "execute_result"
    }
   ],
   "source": [
    "label_intent.__dict__"
   ]
  },
  {
   "cell_type": "code",
   "execution_count": 7,
   "id": "06ce2a19-4c3e-4589-a0b1-ad753dc4ec74",
   "metadata": {},
   "outputs": [
    {
     "name": "stdout",
     "output_type": "stream",
     "text": [
      "Shape of X_train:  (6540,)\n",
      "Shape of X_test:  (1635,)\n"
     ]
    }
   ],
   "source": [
    "X_train, X_test, y_train, y_test = train_test_split(df.utterance, df.label_num, test_size = 0.2, random_state = 2022, stratify = df.label_num)\n",
    "print(\"Shape of X_train: \", X_train.shape)\n",
    "print(\"Shape of X_test: \", X_test.shape)"
   ]
  },
  {
   "cell_type": "code",
   "execution_count": 8,
   "id": "01bf9aaa-79f5-4c7c-bf4d-1a0ef3d1b7a2",
   "metadata": {},
   "outputs": [
    {
     "name": "stdout",
     "output_type": "stream",
     "text": [
      "              precision    recall  f1-score   support\n",
      "\n",
      "           0       0.95      0.98      0.97        61\n",
      "           1       1.00      0.95      0.97        61\n",
      "           2       1.00      1.00      1.00        59\n",
      "           3       0.98      1.00      0.99        60\n",
      "           4       1.00      1.00      1.00        65\n",
      "           5       1.00      0.98      0.99        59\n",
      "           6       0.98      0.98      0.98        60\n",
      "           7       1.00      1.00      1.00        60\n",
      "           8       0.98      1.00      0.99        60\n",
      "           9       1.00      1.00      1.00        59\n",
      "          10       0.97      0.93      0.95        60\n",
      "          11       0.98      1.00      0.99        60\n",
      "          12       0.98      1.00      0.99        60\n",
      "          13       1.00      1.00      1.00        60\n",
      "          14       1.00      0.97      0.98        59\n",
      "          15       1.00      1.00      1.00        65\n",
      "          16       1.00      0.97      0.98        59\n",
      "          17       1.00      1.00      1.00        59\n",
      "          18       1.00      1.00      1.00        65\n",
      "          19       1.00      1.00      1.00        61\n",
      "          20       0.98      1.00      0.99        59\n",
      "          21       0.97      0.97      0.97        59\n",
      "          22       1.00      1.00      1.00        63\n",
      "          23       1.00      1.00      1.00        61\n",
      "          24       0.98      1.00      0.99        58\n",
      "          25       0.98      1.00      0.99        61\n",
      "          26       0.98      1.00      0.99        62\n",
      "\n",
      "    accuracy                           0.99      1635\n",
      "   macro avg       0.99      0.99      0.99      1635\n",
      "weighted avg       0.99      0.99      0.99      1635\n",
      "\n"
     ]
    }
   ],
   "source": [
    "clf_tfid = Pipeline([\n",
    "    ('vectorizer_tfidf', TfidfVectorizer()),\n",
    "    ('LogisticRegress', LogisticRegression(C=1.0, penalty = 'l2', max_iter=100))\n",
    "])\n",
    "clf_tfid.fit(X_train, y_train)\n",
    "y_pred = clf_tfid.predict(X_test)\n",
    "print(classification_report(y_test, y_pred))"
   ]
  },
  {
   "cell_type": "code",
   "execution_count": 9,
   "id": "6f0e7ade-8188-4c83-a3df-7bc32d009a5f",
   "metadata": {},
   "outputs": [
    {
     "name": "stdout",
     "output_type": "stream",
     "text": [
      "              precision    recall  f1-score   support\n",
      "\n",
      "           0       0.95      0.98      0.97        61\n",
      "           1       1.00      0.93      0.97        61\n",
      "           2       1.00      1.00      1.00        59\n",
      "           3       0.97      1.00      0.98        60\n",
      "           4       1.00      1.00      1.00        65\n",
      "           5       1.00      1.00      1.00        59\n",
      "           6       1.00      0.98      0.99        60\n",
      "           7       1.00      1.00      1.00        60\n",
      "           8       0.98      1.00      0.99        60\n",
      "           9       1.00      1.00      1.00        59\n",
      "          10       0.97      0.95      0.96        60\n",
      "          11       1.00      1.00      1.00        60\n",
      "          12       1.00      1.00      1.00        60\n",
      "          13       1.00      1.00      1.00        60\n",
      "          14       1.00      1.00      1.00        59\n",
      "          15       1.00      1.00      1.00        65\n",
      "          16       1.00      0.98      0.99        59\n",
      "          17       1.00      1.00      1.00        59\n",
      "          18       1.00      1.00      1.00        65\n",
      "          19       1.00      1.00      1.00        61\n",
      "          20       0.98      1.00      0.99        59\n",
      "          21       0.98      0.98      0.98        59\n",
      "          22       1.00      1.00      1.00        63\n",
      "          23       1.00      1.00      1.00        61\n",
      "          24       1.00      1.00      1.00        58\n",
      "          25       0.98      1.00      0.99        61\n",
      "          26       1.00      1.00      1.00        62\n",
      "\n",
      "    accuracy                           0.99      1635\n",
      "   macro avg       0.99      0.99      0.99      1635\n",
      "weighted avg       0.99      0.99      0.99      1635\n",
      "\n"
     ]
    }
   ],
   "source": [
    "from sklearn.feature_extraction.text import CountVectorizer\n",
    "clf_bow = Pipeline([ \n",
    "    ('vectorizer_tfidf', CountVectorizer()),\n",
    "    ('LogisticRegress', LogisticRegression(C=1.0, penalty ='l2', max_iter=100))\n",
    "])\n",
    "clf_bow.fit(X_train, y_train)\n",
    "\n",
    "y_pred = clf_bow.predict(X_test)\n",
    "print(classification_report(y_test, y_pred))"
   ]
  },
  {
   "cell_type": "code",
   "execution_count": null,
   "id": "336a1726-01bf-4a79-85a2-a40488756256",
   "metadata": {},
   "outputs": [],
   "source": [
    "\n"
   ]
  }
 ],
 "metadata": {
  "kernelspec": {
   "display_name": "Python 3 (ipykernel)",
   "language": "python",
   "name": "python3"
  },
  "language_info": {
   "codemirror_mode": {
    "name": "ipython",
    "version": 3
   },
   "file_extension": ".py",
   "mimetype": "text/x-python",
   "name": "python",
   "nbconvert_exporter": "python",
   "pygments_lexer": "ipython3",
   "version": "3.13.0"
  }
 },
 "nbformat": 4,
 "nbformat_minor": 5
}
